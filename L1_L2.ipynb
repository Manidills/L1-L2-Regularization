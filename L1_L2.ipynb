{
  "nbformat": 4,
  "nbformat_minor": 0,
  "metadata": {
    "colab": {
      "name": "L1 L2",
      "provenance": [],
      "collapsed_sections": []
    },
    "kernelspec": {
      "name": "python3",
      "display_name": "Python 3"
    },
    "accelerator": "TPU"
  },
  "cells": [
    {
      "cell_type": "code",
      "metadata": {
        "id": "y0xGSBbHyooI",
        "colab_type": "code",
        "colab": {}
      },
      "source": [
        "import numpy as np\n",
        "import pandas as pd\n",
        "import matplotlib.pyplot as plt\n",
        "import seaborn as sns\n",
        "%matplotlib inline"
      ],
      "execution_count": 0,
      "outputs": []
    },
    {
      "cell_type": "code",
      "metadata": {
        "id": "Urp9uWYdzyHu",
        "colab_type": "code",
        "colab": {}
      },
      "source": [
        "from sklearn.model_selection import train_test_split\n",
        "from sklearn.ensemble import RandomForestClassifier\n",
        "from sklearn.feature_selection import SelectKBest, SelectPercentile\n",
        "from sklearn.metrics import accuracy_score"
      ],
      "execution_count": 0,
      "outputs": []
    },
    {
      "cell_type": "code",
      "metadata": {
        "id": "iSDsZ4Qo00dM",
        "colab_type": "code",
        "colab": {}
      },
      "source": [
        "from sklearn.linear_model import LinearRegression, LogisticRegression\n",
        "from sklearn.feature_selection import SelectFromModel"
      ],
      "execution_count": 0,
      "outputs": []
    },
    {
      "cell_type": "code",
      "metadata": {
        "id": "ON7gW00A03_6",
        "colab_type": "code",
        "colab": {}
      },
      "source": [
        "titanic = sns.load_dataset('titanic')"
      ],
      "execution_count": 0,
      "outputs": []
    },
    {
      "cell_type": "code",
      "metadata": {
        "id": "t-LCAxa20-n7",
        "colab_type": "code",
        "colab": {
          "base_uri": "https://localhost:8080/",
          "height": 295
        },
        "outputId": "a3f09b78-6030-439e-c21d-625d3a9295e5"
      },
      "source": [
        "titanic.isnull().sum()"
      ],
      "execution_count": 5,
      "outputs": [
        {
          "output_type": "execute_result",
          "data": {
            "text/plain": [
              "survived         0\n",
              "pclass           0\n",
              "sex              0\n",
              "age            177\n",
              "sibsp            0\n",
              "parch            0\n",
              "fare             0\n",
              "embarked         2\n",
              "class            0\n",
              "who              0\n",
              "adult_male       0\n",
              "deck           688\n",
              "embark_town      2\n",
              "alive            0\n",
              "alone            0\n",
              "dtype: int64"
            ]
          },
          "metadata": {
            "tags": []
          },
          "execution_count": 5
        }
      ]
    },
    {
      "cell_type": "code",
      "metadata": {
        "id": "QZWXpLzg1DHK",
        "colab_type": "code",
        "colab": {}
      },
      "source": [
        "titanic=titanic.drop(['age','deck'], axis=1)"
      ],
      "execution_count": 0,
      "outputs": []
    },
    {
      "cell_type": "code",
      "metadata": {
        "id": "MBkTZ3g_1KLW",
        "colab_type": "code",
        "colab": {
          "base_uri": "https://localhost:8080/",
          "height": 260
        },
        "outputId": "8fe7791c-662e-483c-df53-68cf88ba7941"
      },
      "source": [
        "titanic.isnull().sum()"
      ],
      "execution_count": 9,
      "outputs": [
        {
          "output_type": "execute_result",
          "data": {
            "text/plain": [
              "survived       0\n",
              "pclass         0\n",
              "sex            0\n",
              "sibsp          0\n",
              "parch          0\n",
              "fare           0\n",
              "embarked       2\n",
              "class          0\n",
              "who            0\n",
              "adult_male     0\n",
              "embark_town    2\n",
              "alive          0\n",
              "alone          0\n",
              "dtype: int64"
            ]
          },
          "metadata": {
            "tags": []
          },
          "execution_count": 9
        }
      ]
    },
    {
      "cell_type": "code",
      "metadata": {
        "id": "qjLSqzYF1PlV",
        "colab_type": "code",
        "colab": {}
      },
      "source": [
        "titanic=titanic.dropna()"
      ],
      "execution_count": 0,
      "outputs": []
    },
    {
      "cell_type": "code",
      "metadata": {
        "id": "WESU7ZAI1doT",
        "colab_type": "code",
        "colab": {
          "base_uri": "https://localhost:8080/",
          "height": 260
        },
        "outputId": "ef1b6e4a-be05-4e59-b497-b381a2708fd7"
      },
      "source": [
        "titanic.isnull().sum()"
      ],
      "execution_count": 11,
      "outputs": [
        {
          "output_type": "execute_result",
          "data": {
            "text/plain": [
              "survived       0\n",
              "pclass         0\n",
              "sex            0\n",
              "sibsp          0\n",
              "parch          0\n",
              "fare           0\n",
              "embarked       0\n",
              "class          0\n",
              "who            0\n",
              "adult_male     0\n",
              "embark_town    0\n",
              "alive          0\n",
              "alone          0\n",
              "dtype: int64"
            ]
          },
          "metadata": {
            "tags": []
          },
          "execution_count": 11
        }
      ]
    },
    {
      "cell_type": "code",
      "metadata": {
        "id": "1J23sQuv1hyD",
        "colab_type": "code",
        "colab": {}
      },
      "source": [
        "data = titanic[['pclass', 'sex', 'sibsp', 'parch', 'embarked', 'who', 'alone']].copy()"
      ],
      "execution_count": 0,
      "outputs": []
    },
    {
      "cell_type": "code",
      "metadata": {
        "id": "tRwmmXCI1xcP",
        "colab_type": "code",
        "colab": {
          "base_uri": "https://localhost:8080/",
          "height": 206
        },
        "outputId": "10a4b126-5bae-4559-e78a-1a7cad4fd2bc"
      },
      "source": [
        "data.head()"
      ],
      "execution_count": 13,
      "outputs": [
        {
          "output_type": "execute_result",
          "data": {
            "text/html": [
              "<div>\n",
              "<style scoped>\n",
              "    .dataframe tbody tr th:only-of-type {\n",
              "        vertical-align: middle;\n",
              "    }\n",
              "\n",
              "    .dataframe tbody tr th {\n",
              "        vertical-align: top;\n",
              "    }\n",
              "\n",
              "    .dataframe thead th {\n",
              "        text-align: right;\n",
              "    }\n",
              "</style>\n",
              "<table border=\"1\" class=\"dataframe\">\n",
              "  <thead>\n",
              "    <tr style=\"text-align: right;\">\n",
              "      <th></th>\n",
              "      <th>pclass</th>\n",
              "      <th>sex</th>\n",
              "      <th>sibsp</th>\n",
              "      <th>parch</th>\n",
              "      <th>embarked</th>\n",
              "      <th>who</th>\n",
              "      <th>alone</th>\n",
              "    </tr>\n",
              "  </thead>\n",
              "  <tbody>\n",
              "    <tr>\n",
              "      <th>0</th>\n",
              "      <td>3</td>\n",
              "      <td>male</td>\n",
              "      <td>1</td>\n",
              "      <td>0</td>\n",
              "      <td>S</td>\n",
              "      <td>man</td>\n",
              "      <td>False</td>\n",
              "    </tr>\n",
              "    <tr>\n",
              "      <th>1</th>\n",
              "      <td>1</td>\n",
              "      <td>female</td>\n",
              "      <td>1</td>\n",
              "      <td>0</td>\n",
              "      <td>C</td>\n",
              "      <td>woman</td>\n",
              "      <td>False</td>\n",
              "    </tr>\n",
              "    <tr>\n",
              "      <th>2</th>\n",
              "      <td>3</td>\n",
              "      <td>female</td>\n",
              "      <td>0</td>\n",
              "      <td>0</td>\n",
              "      <td>S</td>\n",
              "      <td>woman</td>\n",
              "      <td>True</td>\n",
              "    </tr>\n",
              "    <tr>\n",
              "      <th>3</th>\n",
              "      <td>1</td>\n",
              "      <td>female</td>\n",
              "      <td>1</td>\n",
              "      <td>0</td>\n",
              "      <td>S</td>\n",
              "      <td>woman</td>\n",
              "      <td>False</td>\n",
              "    </tr>\n",
              "    <tr>\n",
              "      <th>4</th>\n",
              "      <td>3</td>\n",
              "      <td>male</td>\n",
              "      <td>0</td>\n",
              "      <td>0</td>\n",
              "      <td>S</td>\n",
              "      <td>man</td>\n",
              "      <td>True</td>\n",
              "    </tr>\n",
              "  </tbody>\n",
              "</table>\n",
              "</div>"
            ],
            "text/plain": [
              "   pclass     sex  sibsp  parch embarked    who  alone\n",
              "0       3    male      1      0        S    man  False\n",
              "1       1  female      1      0        C  woman  False\n",
              "2       3  female      0      0        S  woman   True\n",
              "3       1  female      1      0        S  woman  False\n",
              "4       3    male      0      0        S    man   True"
            ]
          },
          "metadata": {
            "tags": []
          },
          "execution_count": 13
        }
      ]
    },
    {
      "cell_type": "code",
      "metadata": {
        "id": "wSLnNtBw102C",
        "colab_type": "code",
        "colab": {}
      },
      "source": [
        "sex = {'male': 0, 'female': 1}\n",
        "data['sex'] = data['sex'].map(sex)"
      ],
      "execution_count": 0,
      "outputs": []
    },
    {
      "cell_type": "code",
      "metadata": {
        "id": "lyAWxMtM19G7",
        "colab_type": "code",
        "colab": {}
      },
      "source": [
        "ports = {'S': 0, 'C': 1, 'Q': 2}\n",
        "data['embarked'] = data['embarked'].map(ports)"
      ],
      "execution_count": 0,
      "outputs": []
    },
    {
      "cell_type": "code",
      "metadata": {
        "id": "xulULs-L2IF9",
        "colab_type": "code",
        "colab": {}
      },
      "source": [
        "who = {'man': 0, 'woman': 1, 'child': 2}\n",
        "data['who'] = data['who'].map(who)"
      ],
      "execution_count": 0,
      "outputs": []
    },
    {
      "cell_type": "code",
      "metadata": {
        "id": "F_anJZZ63ViP",
        "colab_type": "code",
        "colab": {}
      },
      "source": [
        "alone = {True: 1, False: 0}\n",
        "data['alone'] = data['alone'].map(alone)"
      ],
      "execution_count": 0,
      "outputs": []
    },
    {
      "cell_type": "code",
      "metadata": {
        "id": "61RFUlkn3ZBR",
        "colab_type": "code",
        "colab": {}
      },
      "source": [
        "X = data.copy()\n",
        "y = titanic['survived']"
      ],
      "execution_count": 0,
      "outputs": []
    },
    {
      "cell_type": "code",
      "metadata": {
        "id": "UE9dPeRY3d2b",
        "colab_type": "code",
        "colab": {}
      },
      "source": [
        "X_train, X_test, y_train, y_test = train_test_split(X, y, test_size = 0.3, random_state = 43)"
      ],
      "execution_count": 0,
      "outputs": []
    },
    {
      "cell_type": "code",
      "metadata": {
        "id": "jgWr7sKZ3h_R",
        "colab_type": "code",
        "colab": {
          "base_uri": "https://localhost:8080/",
          "height": 69
        },
        "outputId": "62cbf8d9-34d2-4730-c182-3656dbffcf25"
      },
      "source": [
        "sel=SelectFromModel(LinearRegression())\n",
        "sel.fit(X_train,y_train)"
      ],
      "execution_count": 20,
      "outputs": [
        {
          "output_type": "execute_result",
          "data": {
            "text/plain": [
              "SelectFromModel(estimator=LinearRegression(copy_X=True, fit_intercept=True,\n",
              "                                           n_jobs=None, normalize=False),\n",
              "                max_features=None, norm_order=1, prefit=False, threshold=None)"
            ]
          },
          "metadata": {
            "tags": []
          },
          "execution_count": 20
        }
      ]
    },
    {
      "cell_type": "code",
      "metadata": {
        "id": "efm13PaT35Ym",
        "colab_type": "code",
        "colab": {
          "base_uri": "https://localhost:8080/",
          "height": 34
        },
        "outputId": "9d2decc3-f5f0-4b44-b6aa-c36d88ad9af8"
      },
      "source": [
        "sel.get_support()"
      ],
      "execution_count": 21,
      "outputs": [
        {
          "output_type": "execute_result",
          "data": {
            "text/plain": [
              "array([ True,  True, False, False, False,  True, False])"
            ]
          },
          "metadata": {
            "tags": []
          },
          "execution_count": 21
        }
      ]
    },
    {
      "cell_type": "code",
      "metadata": {
        "id": "OyLYKcmB38_R",
        "colab_type": "code",
        "colab": {}
      },
      "source": [
        "x_train_l=sel.transform(X_train)\n",
        "x_test_l=sel.transform(X_test)"
      ],
      "execution_count": 0,
      "outputs": []
    },
    {
      "cell_type": "code",
      "metadata": {
        "id": "OLMNClTm4Osd",
        "colab_type": "code",
        "colab": {}
      },
      "source": [
        "def run_randomForest(X_train, X_test, y_train, y_test):\n",
        "    clf = RandomForestClassifier(n_estimators=100, random_state=0, n_jobs=-1)\n",
        "    clf = clf.fit(X_train, y_train)\n",
        "    y_pred = clf.predict(X_test)\n",
        "    print('Accuracy: ', accuracy_score(y_test, y_pred))"
      ],
      "execution_count": 0,
      "outputs": []
    },
    {
      "cell_type": "code",
      "metadata": {
        "id": "28KgiLLN4f2o",
        "colab_type": "code",
        "colab": {
          "base_uri": "https://localhost:8080/",
          "height": 34
        },
        "outputId": "9c7cfc27-69d0-42bc-e489-2ce57aeeae7d"
      },
      "source": [
        "run_randomForest(x_train_l, x_test_l, y_train, y_test)"
      ],
      "execution_count": 24,
      "outputs": [
        {
          "output_type": "stream",
          "text": [
            "Accuracy:  0.8239700374531835\n"
          ],
          "name": "stdout"
        }
      ]
    },
    {
      "cell_type": "code",
      "metadata": {
        "id": "c8_imYZG4spJ",
        "colab_type": "code",
        "colab": {
          "base_uri": "https://localhost:8080/",
          "height": 173
        },
        "outputId": "369931fd-2740-4e23-bb54-cb9e8f1e2bbf"
      },
      "source": [
        "sel=SelectFromModel(LogisticRegression(penalty='l1',C=0.05,solver='liblinear'))\n",
        "sel.fit(X_train,y_train)"
      ],
      "execution_count": 27,
      "outputs": [
        {
          "output_type": "execute_result",
          "data": {
            "text/plain": [
              "SelectFromModel(estimator=LogisticRegression(C=0.05, class_weight=None,\n",
              "                                             dual=False, fit_intercept=True,\n",
              "                                             intercept_scaling=1, l1_ratio=None,\n",
              "                                             max_iter=100, multi_class='warn',\n",
              "                                             n_jobs=None, penalty='l1',\n",
              "                                             random_state=None,\n",
              "                                             solver='liblinear', tol=0.0001,\n",
              "                                             verbose=0, warm_start=False),\n",
              "                max_features=None, norm_order=1, prefit=False, threshold=None)"
            ]
          },
          "metadata": {
            "tags": []
          },
          "execution_count": 27
        }
      ]
    },
    {
      "cell_type": "code",
      "metadata": {
        "id": "rN0COZK_5Hxf",
        "colab_type": "code",
        "colab": {}
      },
      "source": [
        "x_train_l1=sel.transform(X_train)\n",
        "x_test_l1=sel.transform(X_test)"
      ],
      "execution_count": 0,
      "outputs": []
    },
    {
      "cell_type": "code",
      "metadata": {
        "id": "6f2uCM-X5mPX",
        "colab_type": "code",
        "colab": {
          "base_uri": "https://localhost:8080/",
          "height": 34
        },
        "outputId": "787bcfe9-8966-4383-e88a-958b3f7ee0f6"
      },
      "source": [
        "run_randomForest(x_train_l1,x_test_l1,y_train,y_test)"
      ],
      "execution_count": 30,
      "outputs": [
        {
          "output_type": "stream",
          "text": [
            "Accuracy:  0.8277153558052435\n"
          ],
          "name": "stdout"
        }
      ]
    },
    {
      "cell_type": "code",
      "metadata": {
        "id": "9zCUjDN95yym",
        "colab_type": "code",
        "colab": {
          "base_uri": "https://localhost:8080/",
          "height": 173
        },
        "outputId": "3cd091f3-1999-4a7d-d9d9-841e2cbfd61c"
      },
      "source": [
        "sel=SelectFromModel(LogisticRegression(penalty='l2',C=0.05,solver='liblinear'))\n",
        "sel.fit(X_train,y_train)"
      ],
      "execution_count": 31,
      "outputs": [
        {
          "output_type": "execute_result",
          "data": {
            "text/plain": [
              "SelectFromModel(estimator=LogisticRegression(C=0.05, class_weight=None,\n",
              "                                             dual=False, fit_intercept=True,\n",
              "                                             intercept_scaling=1, l1_ratio=None,\n",
              "                                             max_iter=100, multi_class='warn',\n",
              "                                             n_jobs=None, penalty='l2',\n",
              "                                             random_state=None,\n",
              "                                             solver='liblinear', tol=0.0001,\n",
              "                                             verbose=0, warm_start=False),\n",
              "                max_features=None, norm_order=1, prefit=False, threshold=None)"
            ]
          },
          "metadata": {
            "tags": []
          },
          "execution_count": 31
        }
      ]
    },
    {
      "cell_type": "code",
      "metadata": {
        "id": "LRqOJEHi6IWj",
        "colab_type": "code",
        "colab": {}
      },
      "source": [
        "x_train_l2=sel.transform(X_train)\n",
        "x_test_l2=sel.transform(X_test)"
      ],
      "execution_count": 0,
      "outputs": []
    },
    {
      "cell_type": "code",
      "metadata": {
        "id": "C47mIBOL6OiO",
        "colab_type": "code",
        "colab": {
          "base_uri": "https://localhost:8080/",
          "height": 34
        },
        "outputId": "685b8302-492f-495b-f6c5-b3f896f0dd1a"
      },
      "source": [
        "run_randomForest(x_train_l2,x_test_l2,y_train,y_test)"
      ],
      "execution_count": 33,
      "outputs": [
        {
          "output_type": "stream",
          "text": [
            "Accuracy:  0.8239700374531835\n"
          ],
          "name": "stdout"
        }
      ]
    },
    {
      "cell_type": "code",
      "metadata": {
        "id": "pApBes0D6SoO",
        "colab_type": "code",
        "colab": {}
      },
      "source": [
        ""
      ],
      "execution_count": 0,
      "outputs": []
    }
  ]
}